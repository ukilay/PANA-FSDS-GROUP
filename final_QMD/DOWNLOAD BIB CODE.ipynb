import requests

# URL of the raw `bio.bib` file from the GitHub repository
url = "https://raw.githubusercontent.com/ukilay/PANA-FSDS-GROUP/main/final_QMD/bio.bib"

# Local filename to save the file
output_file = "bio.bib"

try:
    # Sending a GET request to the URL
    response = requests.get(url, stream=True)
    response.raise_for_status()  # Raise an error for bad HTTP status codes
    
    # Writing the content to the local file
    with open(output_file, "wb") as file:
        for chunk in response.iter_content(chunk_size=8192):
            file.write(chunk)
    
    print(f"File downloaded successfully as {output_file}")
except requests.exceptions.RequestException as e:
    print(f"An error occurred: {e}")
